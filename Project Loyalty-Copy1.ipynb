{
 "cells": [
  {
   "cell_type": "code",
   "execution_count": 1,
   "id": "ec025bc9-ae4d-4bc3-81d0-f2b1669d5406",
   "metadata": {},
   "outputs": [],
   "source": [
    "import pandas as pd\n",
    "import numpy as np\n",
    "import seaborn as sns\n",
    "import matplotlib.pyplot as plt"
   ]
  },
  {
   "cell_type": "code",
   "execution_count": 2,
   "id": "cc7ddf11-a527-4a12-bd41-e08868e1ada9",
   "metadata": {},
   "outputs": [],
   "source": [
    "loyal = pd.read_csv('loyalty.csv')"
   ]
  },
  {
   "cell_type": "code",
   "execution_count": 3,
   "id": "fb93a03a-db2e-4cbc-87f3-b0727c439b38",
   "metadata": {},
   "outputs": [
    {
     "name": "stdout",
     "output_type": "stream",
     "text": [
      "<class 'pandas.core.frame.DataFrame'>\n",
      "RangeIndex: 1246 entries, 0 to 1245\n",
      "Data columns (total 8 columns):\n",
      " #   Column                Non-Null Count  Dtype  \n",
      "---  ------                --------------  -----  \n",
      " 0   customer_id           1246 non-null   int64  \n",
      " 1   spend                 1246 non-null   float64\n",
      " 2   first_month           1246 non-null   object \n",
      " 3   items_in_first_month  1246 non-null   int64  \n",
      " 4   region                1246 non-null   object \n",
      " 5   loyalty_years         1246 non-null   object \n",
      " 6   joining_month         1121 non-null   object \n",
      " 7   promotion             1246 non-null   object \n",
      "dtypes: float64(1), int64(2), object(5)\n",
      "memory usage: 78.0+ KB\n"
     ]
    }
   ],
   "source": [
    "loyal.info()"
   ]
  },
  {
   "cell_type": "code",
   "execution_count": 4,
   "id": "50f2769a-1dcc-439d-b38e-c0307e3361f5",
   "metadata": {},
   "outputs": [
    {
     "data": {
      "text/html": [
       "<div>\n",
       "<style scoped>\n",
       "    .dataframe tbody tr th:only-of-type {\n",
       "        vertical-align: middle;\n",
       "    }\n",
       "\n",
       "    .dataframe tbody tr th {\n",
       "        vertical-align: top;\n",
       "    }\n",
       "\n",
       "    .dataframe thead th {\n",
       "        text-align: right;\n",
       "    }\n",
       "</style>\n",
       "<table border=\"1\" class=\"dataframe\">\n",
       "  <thead>\n",
       "    <tr style=\"text-align: right;\">\n",
       "      <th></th>\n",
       "      <th>customer_id</th>\n",
       "      <th>spend</th>\n",
       "      <th>first_month</th>\n",
       "      <th>items_in_first_month</th>\n",
       "      <th>region</th>\n",
       "      <th>loyalty_years</th>\n",
       "      <th>joining_month</th>\n",
       "      <th>promotion</th>\n",
       "    </tr>\n",
       "  </thead>\n",
       "  <tbody>\n",
       "    <tr>\n",
       "      <th>0</th>\n",
       "      <td>1</td>\n",
       "      <td>132.68</td>\n",
       "      <td>15.3</td>\n",
       "      <td>5</td>\n",
       "      <td>Asia/Pacific</td>\n",
       "      <td>5-10</td>\n",
       "      <td>Nov</td>\n",
       "      <td>No</td>\n",
       "    </tr>\n",
       "    <tr>\n",
       "      <th>1</th>\n",
       "      <td>2</td>\n",
       "      <td>106.45</td>\n",
       "      <td>16.2</td>\n",
       "      <td>14</td>\n",
       "      <td>Asia/Pacific</td>\n",
       "      <td>0-1</td>\n",
       "      <td>Feb</td>\n",
       "      <td>Yes</td>\n",
       "    </tr>\n",
       "    <tr>\n",
       "      <th>2</th>\n",
       "      <td>3</td>\n",
       "      <td>123.16</td>\n",
       "      <td>25.26</td>\n",
       "      <td>7</td>\n",
       "      <td>Middle East/Africa</td>\n",
       "      <td>10+</td>\n",
       "      <td>Dec</td>\n",
       "      <td>Yes</td>\n",
       "    </tr>\n",
       "    <tr>\n",
       "      <th>3</th>\n",
       "      <td>4</td>\n",
       "      <td>130.60</td>\n",
       "      <td>24.74</td>\n",
       "      <td>8</td>\n",
       "      <td>Middle East/Africa</td>\n",
       "      <td>3-5</td>\n",
       "      <td>Apr</td>\n",
       "      <td>No</td>\n",
       "    </tr>\n",
       "    <tr>\n",
       "      <th>4</th>\n",
       "      <td>5</td>\n",
       "      <td>130.41</td>\n",
       "      <td>25.59</td>\n",
       "      <td>8</td>\n",
       "      <td>Middle East/Africa</td>\n",
       "      <td>3-5</td>\n",
       "      <td>Apr</td>\n",
       "      <td>Yes</td>\n",
       "    </tr>\n",
       "  </tbody>\n",
       "</table>\n",
       "</div>"
      ],
      "text/plain": [
       "   customer_id   spend first_month  items_in_first_month              region  \\\n",
       "0            1  132.68        15.3                     5        Asia/Pacific   \n",
       "1            2  106.45        16.2                    14        Asia/Pacific   \n",
       "2            3  123.16       25.26                     7  Middle East/Africa   \n",
       "3            4  130.60       24.74                     8  Middle East/Africa   \n",
       "4            5  130.41       25.59                     8  Middle East/Africa   \n",
       "\n",
       "  loyalty_years joining_month promotion  \n",
       "0          5-10           Nov        No  \n",
       "1           0-1           Feb       Yes  \n",
       "2           10+           Dec       Yes  \n",
       "3           3-5           Apr        No  \n",
       "4           3-5           Apr       Yes  "
      ]
     },
     "execution_count": 4,
     "metadata": {},
     "output_type": "execute_result"
    }
   ],
   "source": [
    "loyal.head()"
   ]
  },
  {
   "cell_type": "code",
   "execution_count": 5,
   "id": "6ecf1fb5-8dea-4201-b68d-bdfc3ef39f17",
   "metadata": {},
   "outputs": [],
   "source": [
    "clean_data = loyal.copy()"
   ]
  },
  {
   "cell_type": "code",
   "execution_count": 6,
   "id": "180f6ab7-09dd-4696-a6d3-3a95ca7fdc85",
   "metadata": {},
   "outputs": [
    {
     "data": {
      "text/html": [
       "<div>\n",
       "<style scoped>\n",
       "    .dataframe tbody tr th:only-of-type {\n",
       "        vertical-align: middle;\n",
       "    }\n",
       "\n",
       "    .dataframe tbody tr th {\n",
       "        vertical-align: top;\n",
       "    }\n",
       "\n",
       "    .dataframe thead th {\n",
       "        text-align: right;\n",
       "    }\n",
       "</style>\n",
       "<table border=\"1\" class=\"dataframe\">\n",
       "  <thead>\n",
       "    <tr style=\"text-align: right;\">\n",
       "      <th></th>\n",
       "      <th>customer_id</th>\n",
       "      <th>spend</th>\n",
       "      <th>first_month</th>\n",
       "      <th>items_in_first_month</th>\n",
       "      <th>region</th>\n",
       "      <th>loyalty_years</th>\n",
       "      <th>joining_month</th>\n",
       "      <th>promotion</th>\n",
       "    </tr>\n",
       "  </thead>\n",
       "  <tbody>\n",
       "    <tr>\n",
       "      <th>0</th>\n",
       "      <td>1</td>\n",
       "      <td>132.68</td>\n",
       "      <td>15.3</td>\n",
       "      <td>5</td>\n",
       "      <td>Asia/Pacific</td>\n",
       "      <td>5-10</td>\n",
       "      <td>Nov</td>\n",
       "      <td>No</td>\n",
       "    </tr>\n",
       "    <tr>\n",
       "      <th>1</th>\n",
       "      <td>2</td>\n",
       "      <td>106.45</td>\n",
       "      <td>16.2</td>\n",
       "      <td>14</td>\n",
       "      <td>Asia/Pacific</td>\n",
       "      <td>0-1</td>\n",
       "      <td>Feb</td>\n",
       "      <td>Yes</td>\n",
       "    </tr>\n",
       "    <tr>\n",
       "      <th>2</th>\n",
       "      <td>3</td>\n",
       "      <td>123.16</td>\n",
       "      <td>25.26</td>\n",
       "      <td>7</td>\n",
       "      <td>Middle East/Africa</td>\n",
       "      <td>10+</td>\n",
       "      <td>Dec</td>\n",
       "      <td>Yes</td>\n",
       "    </tr>\n",
       "    <tr>\n",
       "      <th>3</th>\n",
       "      <td>4</td>\n",
       "      <td>130.60</td>\n",
       "      <td>24.74</td>\n",
       "      <td>8</td>\n",
       "      <td>Middle East/Africa</td>\n",
       "      <td>3-5</td>\n",
       "      <td>Apr</td>\n",
       "      <td>No</td>\n",
       "    </tr>\n",
       "    <tr>\n",
       "      <th>4</th>\n",
       "      <td>5</td>\n",
       "      <td>130.41</td>\n",
       "      <td>25.59</td>\n",
       "      <td>8</td>\n",
       "      <td>Middle East/Africa</td>\n",
       "      <td>3-5</td>\n",
       "      <td>Apr</td>\n",
       "      <td>Yes</td>\n",
       "    </tr>\n",
       "  </tbody>\n",
       "</table>\n",
       "</div>"
      ],
      "text/plain": [
       "   customer_id   spend first_month  items_in_first_month              region  \\\n",
       "0            1  132.68        15.3                     5        Asia/Pacific   \n",
       "1            2  106.45        16.2                    14        Asia/Pacific   \n",
       "2            3  123.16       25.26                     7  Middle East/Africa   \n",
       "3            4  130.60       24.74                     8  Middle East/Africa   \n",
       "4            5  130.41       25.59                     8  Middle East/Africa   \n",
       "\n",
       "  loyalty_years joining_month promotion  \n",
       "0          5-10           Nov        No  \n",
       "1           0-1           Feb       Yes  \n",
       "2           10+           Dec       Yes  \n",
       "3           3-5           Apr        No  \n",
       "4           3-5           Apr       Yes  "
      ]
     },
     "execution_count": 6,
     "metadata": {},
     "output_type": "execute_result"
    }
   ],
   "source": [
    "clean_data.head()"
   ]
  },
  {
   "cell_type": "code",
   "execution_count": 7,
   "id": "a196577f-6ecc-4e00-9910-d416420373ed",
   "metadata": {
    "scrolled": true
   },
   "outputs": [
    {
     "data": {
      "text/plain": [
       "customer_id               0\n",
       "spend                     0\n",
       "first_month               0\n",
       "items_in_first_month      0\n",
       "region                    0\n",
       "loyalty_years             0\n",
       "joining_month           125\n",
       "promotion                 0\n",
       "dtype: int64"
      ]
     },
     "execution_count": 7,
     "metadata": {},
     "output_type": "execute_result"
    }
   ],
   "source": [
    "clean_data.isnull().sum()"
   ]
  },
  {
   "cell_type": "code",
   "execution_count": 8,
   "id": "980a74b9-5095-492c-9b9f-0e2fde5b8e9d",
   "metadata": {},
   "outputs": [
    {
     "data": {
      "text/plain": [
       "0"
      ]
     },
     "execution_count": 8,
     "metadata": {},
     "output_type": "execute_result"
    }
   ],
   "source": [
    "clean_data.duplicated().sum()"
   ]
  },
  {
   "cell_type": "code",
   "execution_count": 9,
   "id": "50045cf6-1d08-49c2-948a-95188ce27f8b",
   "metadata": {},
   "outputs": [
    {
     "data": {
      "text/html": [
       "<div>\n",
       "<style scoped>\n",
       "    .dataframe tbody tr th:only-of-type {\n",
       "        vertical-align: middle;\n",
       "    }\n",
       "\n",
       "    .dataframe tbody tr th {\n",
       "        vertical-align: top;\n",
       "    }\n",
       "\n",
       "    .dataframe thead th {\n",
       "        text-align: right;\n",
       "    }\n",
       "</style>\n",
       "<table border=\"1\" class=\"dataframe\">\n",
       "  <thead>\n",
       "    <tr style=\"text-align: right;\">\n",
       "      <th></th>\n",
       "      <th>customer_id</th>\n",
       "      <th>spend</th>\n",
       "      <th>first_month</th>\n",
       "      <th>items_in_first_month</th>\n",
       "      <th>region</th>\n",
       "      <th>loyalty_years</th>\n",
       "      <th>joining_month</th>\n",
       "      <th>promotion</th>\n",
       "    </tr>\n",
       "  </thead>\n",
       "  <tbody>\n",
       "    <tr>\n",
       "      <th>0</th>\n",
       "      <td>1</td>\n",
       "      <td>132.68</td>\n",
       "      <td>15.3</td>\n",
       "      <td>5</td>\n",
       "      <td>Asia/Pacific</td>\n",
       "      <td>5-10</td>\n",
       "      <td>Nov</td>\n",
       "      <td>No</td>\n",
       "    </tr>\n",
       "    <tr>\n",
       "      <th>1</th>\n",
       "      <td>2</td>\n",
       "      <td>106.45</td>\n",
       "      <td>16.2</td>\n",
       "      <td>14</td>\n",
       "      <td>Asia/Pacific</td>\n",
       "      <td>0-1</td>\n",
       "      <td>Feb</td>\n",
       "      <td>Yes</td>\n",
       "    </tr>\n",
       "    <tr>\n",
       "      <th>2</th>\n",
       "      <td>3</td>\n",
       "      <td>123.16</td>\n",
       "      <td>25.26</td>\n",
       "      <td>7</td>\n",
       "      <td>Middle East/Africa</td>\n",
       "      <td>10+</td>\n",
       "      <td>Dec</td>\n",
       "      <td>Yes</td>\n",
       "    </tr>\n",
       "    <tr>\n",
       "      <th>3</th>\n",
       "      <td>4</td>\n",
       "      <td>130.60</td>\n",
       "      <td>24.74</td>\n",
       "      <td>8</td>\n",
       "      <td>Middle East/Africa</td>\n",
       "      <td>3-5</td>\n",
       "      <td>Apr</td>\n",
       "      <td>No</td>\n",
       "    </tr>\n",
       "    <tr>\n",
       "      <th>4</th>\n",
       "      <td>5</td>\n",
       "      <td>130.41</td>\n",
       "      <td>25.59</td>\n",
       "      <td>8</td>\n",
       "      <td>Middle East/Africa</td>\n",
       "      <td>3-5</td>\n",
       "      <td>Apr</td>\n",
       "      <td>Yes</td>\n",
       "    </tr>\n",
       "    <tr>\n",
       "      <th>...</th>\n",
       "      <td>...</td>\n",
       "      <td>...</td>\n",
       "      <td>...</td>\n",
       "      <td>...</td>\n",
       "      <td>...</td>\n",
       "      <td>...</td>\n",
       "      <td>...</td>\n",
       "      <td>...</td>\n",
       "    </tr>\n",
       "    <tr>\n",
       "      <th>1241</th>\n",
       "      <td>1242</td>\n",
       "      <td>126.01</td>\n",
       "      <td>15.97</td>\n",
       "      <td>14</td>\n",
       "      <td>Americas</td>\n",
       "      <td>1-3</td>\n",
       "      <td>NaN</td>\n",
       "      <td>Yes</td>\n",
       "    </tr>\n",
       "    <tr>\n",
       "      <th>1242</th>\n",
       "      <td>1243</td>\n",
       "      <td>111.85</td>\n",
       "      <td>21.22</td>\n",
       "      <td>9</td>\n",
       "      <td>Asia/Pacific</td>\n",
       "      <td>0-1</td>\n",
       "      <td>Jan</td>\n",
       "      <td>No</td>\n",
       "    </tr>\n",
       "    <tr>\n",
       "      <th>1243</th>\n",
       "      <td>1244</td>\n",
       "      <td>132.51</td>\n",
       "      <td>16.23</td>\n",
       "      <td>9</td>\n",
       "      <td>Middle East/Africa</td>\n",
       "      <td>5-10</td>\n",
       "      <td>Aug</td>\n",
       "      <td>No</td>\n",
       "    </tr>\n",
       "    <tr>\n",
       "      <th>1244</th>\n",
       "      <td>1245</td>\n",
       "      <td>131.57</td>\n",
       "      <td>21.21</td>\n",
       "      <td>9</td>\n",
       "      <td>Americas</td>\n",
       "      <td>1-3</td>\n",
       "      <td>NaN</td>\n",
       "      <td>No</td>\n",
       "    </tr>\n",
       "    <tr>\n",
       "      <th>1245</th>\n",
       "      <td>1246</td>\n",
       "      <td>135.85</td>\n",
       "      <td>18.99</td>\n",
       "      <td>7</td>\n",
       "      <td>Middle East/Africa</td>\n",
       "      <td>5-10</td>\n",
       "      <td>NaN</td>\n",
       "      <td>No</td>\n",
       "    </tr>\n",
       "  </tbody>\n",
       "</table>\n",
       "<p>1246 rows × 8 columns</p>\n",
       "</div>"
      ],
      "text/plain": [
       "      customer_id   spend first_month  items_in_first_month  \\\n",
       "0               1  132.68        15.3                     5   \n",
       "1               2  106.45        16.2                    14   \n",
       "2               3  123.16       25.26                     7   \n",
       "3               4  130.60       24.74                     8   \n",
       "4               5  130.41       25.59                     8   \n",
       "...           ...     ...         ...                   ...   \n",
       "1241         1242  126.01       15.97                    14   \n",
       "1242         1243  111.85       21.22                     9   \n",
       "1243         1244  132.51       16.23                     9   \n",
       "1244         1245  131.57       21.21                     9   \n",
       "1245         1246  135.85       18.99                     7   \n",
       "\n",
       "                  region loyalty_years joining_month promotion  \n",
       "0           Asia/Pacific          5-10           Nov        No  \n",
       "1           Asia/Pacific           0-1           Feb       Yes  \n",
       "2     Middle East/Africa           10+           Dec       Yes  \n",
       "3     Middle East/Africa           3-5           Apr        No  \n",
       "4     Middle East/Africa           3-5           Apr       Yes  \n",
       "...                  ...           ...           ...       ...  \n",
       "1241            Americas           1-3           NaN       Yes  \n",
       "1242        Asia/Pacific           0-1           Jan        No  \n",
       "1243  Middle East/Africa          5-10           Aug        No  \n",
       "1244            Americas           1-3           NaN        No  \n",
       "1245  Middle East/Africa          5-10           NaN        No  \n",
       "\n",
       "[1246 rows x 8 columns]"
      ]
     },
     "execution_count": 9,
     "metadata": {},
     "output_type": "execute_result"
    }
   ],
   "source": [
    "clean_data"
   ]
  },
  {
   "cell_type": "code",
   "execution_count": 10,
   "id": "112c744f-561c-4137-8ad7-3044f2977d66",
   "metadata": {},
   "outputs": [
    {
     "name": "stdout",
     "output_type": "stream",
     "text": [
      "<class 'pandas.core.series.Series'>\n",
      "RangeIndex: 1246 entries, 0 to 1245\n",
      "Series name: spend\n",
      "Non-Null Count  Dtype  \n",
      "--------------  -----  \n",
      "1246 non-null   float64\n",
      "dtypes: float64(1)\n",
      "memory usage: 9.9 KB\n"
     ]
    }
   ],
   "source": [
    "clean_data['spend'].info()"
   ]
  },
  {
   "cell_type": "code",
   "execution_count": 11,
   "id": "5fca22c3-bd9a-4205-95f8-b8b5ade97799",
   "metadata": {},
   "outputs": [
    {
     "data": {
      "text/plain": [
       "861"
      ]
     },
     "execution_count": 11,
     "metadata": {},
     "output_type": "execute_result"
    }
   ],
   "source": [
    "clean_data['spend'].nunique()"
   ]
  },
  {
   "cell_type": "code",
   "execution_count": null,
   "id": "1b45a208-5c6b-4984-bceb-233a4c5e24d3",
   "metadata": {},
   "outputs": [],
   "source": []
  },
  {
   "cell_type": "code",
   "execution_count": 12,
   "id": "851704ee-a184-4bfc-aedc-700b22ac8fe0",
   "metadata": {},
   "outputs": [
    {
     "data": {
      "text/plain": [
       "0"
      ]
     },
     "execution_count": 12,
     "metadata": {},
     "output_type": "execute_result"
    }
   ],
   "source": [
    "clean_data['spend'].isnull().sum()"
   ]
  },
  {
   "cell_type": "code",
   "execution_count": 13,
   "id": "a54af487-50bc-4a3d-8c1c-cec4bc93b85a",
   "metadata": {},
   "outputs": [
    {
     "name": "stdout",
     "output_type": "stream",
     "text": [
      "<class 'pandas.core.series.Series'>\n",
      "RangeIndex: 1246 entries, 0 to 1245\n",
      "Series name: first_month\n",
      "Non-Null Count  Dtype \n",
      "--------------  ----- \n",
      "1246 non-null   object\n",
      "dtypes: object(1)\n",
      "memory usage: 9.9+ KB\n"
     ]
    }
   ],
   "source": [
    "clean_data['first_month'].info()"
   ]
  },
  {
   "cell_type": "code",
   "execution_count": 14,
   "id": "6774882d-c28b-4dc6-9cd1-7a2f3852dd70",
   "metadata": {
    "scrolled": true
   },
   "outputs": [
    {
     "data": {
      "text/plain": [
       "491"
      ]
     },
     "execution_count": 14,
     "metadata": {},
     "output_type": "execute_result"
    }
   ],
   "source": [
    "clean_data['first_month'].nunique()"
   ]
  },
  {
   "cell_type": "code",
   "execution_count": 15,
   "id": "99cd24b2-fcac-4e67-b728-c0c9e07670a9",
   "metadata": {},
   "outputs": [
    {
     "data": {
      "text/plain": [
       "0"
      ]
     },
     "execution_count": 15,
     "metadata": {},
     "output_type": "execute_result"
    }
   ],
   "source": [
    "clean_data['first_month'].isnull().sum()"
   ]
  },
  {
   "cell_type": "code",
   "execution_count": 16,
   "id": "7d120de8-bc03-4e06-9dee-b2204768265a",
   "metadata": {},
   "outputs": [
    {
     "data": {
      "text/plain": [
       "'.'"
      ]
     },
     "execution_count": 16,
     "metadata": {},
     "output_type": "execute_result"
    }
   ],
   "source": [
    "clean_data[\"first_month\"].iloc[26]"
   ]
  },
  {
   "cell_type": "code",
   "execution_count": 17,
   "id": "187e1d28-0c6d-4d6d-91ea-ad6df53ce191",
   "metadata": {},
   "outputs": [],
   "source": [
    "#found . in the data \n",
    "clean_data[\"first_month\"].replace('.',0, inplace=True)"
   ]
  },
  {
   "cell_type": "code",
   "execution_count": 18,
   "id": "67ded501-6b17-4914-a86d-fab859d2c78a",
   "metadata": {},
   "outputs": [
    {
     "data": {
      "text/plain": [
       "0"
      ]
     },
     "execution_count": 18,
     "metadata": {},
     "output_type": "execute_result"
    }
   ],
   "source": [
    "clean_data[\"first_month\"].iloc[26]"
   ]
  },
  {
   "cell_type": "code",
   "execution_count": 19,
   "id": "f4313e7c-a87a-466b-86cf-60d1bd03b168",
   "metadata": {},
   "outputs": [
    {
     "data": {
      "text/plain": [
       "0     5\n",
       "1    14\n",
       "2     7\n",
       "3     8\n",
       "4     8\n",
       "Name: items_in_first_month, dtype: int64"
      ]
     },
     "execution_count": 19,
     "metadata": {},
     "output_type": "execute_result"
    }
   ],
   "source": [
    "clean_data['items_in_first_month'].head()"
   ]
  },
  {
   "cell_type": "code",
   "execution_count": 20,
   "id": "daaa178d-bf46-4626-af84-af910946fad8",
   "metadata": {},
   "outputs": [
    {
     "data": {
      "text/plain": [
       "11"
      ]
     },
     "execution_count": 20,
     "metadata": {},
     "output_type": "execute_result"
    }
   ],
   "source": [
    "clean_data['items_in_first_month'].nunique()"
   ]
  },
  {
   "cell_type": "code",
   "execution_count": 21,
   "id": "c29f1e02-a730-45e3-850b-eb8013ae8974",
   "metadata": {},
   "outputs": [
    {
     "data": {
      "text/plain": [
       "items_in_first_month\n",
       "9     237\n",
       "7     233\n",
       "14    198\n",
       "8     156\n",
       "13    150\n",
       "5     120\n",
       "6      59\n",
       "11     55\n",
       "12     26\n",
       "10     10\n",
       "15      2\n",
       "Name: count, dtype: int64"
      ]
     },
     "execution_count": 21,
     "metadata": {},
     "output_type": "execute_result"
    }
   ],
   "source": [
    "clean_data['items_in_first_month'].value_counts()"
   ]
  },
  {
   "cell_type": "code",
   "execution_count": 22,
   "id": "a521eb45-fb2c-4103-a0b4-8477d15aab0c",
   "metadata": {},
   "outputs": [
    {
     "data": {
      "text/plain": [
       "0"
      ]
     },
     "execution_count": 22,
     "metadata": {},
     "output_type": "execute_result"
    }
   ],
   "source": [
    "clean_data['items_in_first_month'].isnull().sum()"
   ]
  },
  {
   "cell_type": "code",
   "execution_count": 23,
   "id": "f56e8f79-7400-40c2-a2bc-5b0d718f50ea",
   "metadata": {},
   "outputs": [
    {
     "data": {
      "text/plain": [
       "0"
      ]
     },
     "execution_count": 23,
     "metadata": {},
     "output_type": "execute_result"
    }
   ],
   "source": [
    "clean_data['region'].isnull().sum()"
   ]
  },
  {
   "cell_type": "code",
   "execution_count": 24,
   "id": "c58185af-d22a-4360-a64b-2839d62b300e",
   "metadata": {},
   "outputs": [
    {
     "data": {
      "text/plain": [
       "4"
      ]
     },
     "execution_count": 24,
     "metadata": {},
     "output_type": "execute_result"
    }
   ],
   "source": [
    "clean_data['region'].nunique()"
   ]
  },
  {
   "cell_type": "code",
   "execution_count": 25,
   "id": "35f34b58-d147-40ff-acd9-62f99168e098",
   "metadata": {},
   "outputs": [
    {
     "data": {
      "text/plain": [
       "region\n",
       "Middle East/Africa    326\n",
       "Europe                320\n",
       "Americas              309\n",
       "Asia/Pacific          291\n",
       "Name: count, dtype: int64"
      ]
     },
     "execution_count": 25,
     "metadata": {},
     "output_type": "execute_result"
    }
   ],
   "source": [
    "clean_data['region'].value_counts()"
   ]
  },
  {
   "cell_type": "code",
   "execution_count": 26,
   "id": "79a13614-78bd-49a8-9195-f2e1e273996b",
   "metadata": {},
   "outputs": [
    {
     "data": {
      "text/plain": [
       "4"
      ]
     },
     "execution_count": 26,
     "metadata": {},
     "output_type": "execute_result"
    }
   ],
   "source": [
    "clean_data['promotion'].nunique()"
   ]
  },
  {
   "cell_type": "code",
   "execution_count": 27,
   "id": "3b8fe4a4-4b93-4d0d-b252-6a8be6ff2caa",
   "metadata": {},
   "outputs": [],
   "source": [
    "\n",
    "clean_data['promotion'].replace({'YES':'Yes','NO':'No'},inplace=True)"
   ]
  },
  {
   "cell_type": "code",
   "execution_count": 28,
   "id": "21f3a721-58de-4ca9-9389-f3a4132fbbcb",
   "metadata": {},
   "outputs": [
    {
     "data": {
      "text/plain": [
       "2"
      ]
     },
     "execution_count": 28,
     "metadata": {},
     "output_type": "execute_result"
    }
   ],
   "source": [
    "clean_data['promotion'].nunique()"
   ]
  },
  {
   "cell_type": "code",
   "execution_count": 29,
   "id": "9b3bedea-341b-47a5-b35e-b09cee978662",
   "metadata": {},
   "outputs": [
    {
     "data": {
      "text/plain": [
       "125"
      ]
     },
     "execution_count": 29,
     "metadata": {},
     "output_type": "execute_result"
    }
   ],
   "source": [
    "clean_data['joining_month'].isnull().sum()"
   ]
  },
  {
   "cell_type": "code",
   "execution_count": 30,
   "id": "62d34e88-4ec8-4712-91f7-921ee9a14743",
   "metadata": {},
   "outputs": [],
   "source": [
    "#filling the missing values with unknown\n",
    "clean_data['joining_month'].fillna('Unknown',inplace=True)"
   ]
  },
  {
   "cell_type": "code",
   "execution_count": 31,
   "id": "9b1c1c70-e5d2-4668-b593-e1492bf73bb8",
   "metadata": {},
   "outputs": [
    {
     "data": {
      "text/plain": [
       "0"
      ]
     },
     "execution_count": 31,
     "metadata": {},
     "output_type": "execute_result"
    }
   ],
   "source": [
    "clean_data['joining_month'].isnull().sum()"
   ]
  },
  {
   "cell_type": "code",
   "execution_count": null,
   "id": "34307cd8-b087-4fe6-a5e4-5177f61637b2",
   "metadata": {},
   "outputs": [],
   "source": []
  },
  {
   "cell_type": "code",
   "execution_count": 32,
   "id": "b87eb761-4077-4156-a33c-8d676ead178e",
   "metadata": {},
   "outputs": [
    {
     "data": {
      "text/plain": [
       "0       False\n",
       "1       False\n",
       "2       False\n",
       "3       False\n",
       "4       False\n",
       "        ...  \n",
       "1241    False\n",
       "1242    False\n",
       "1243    False\n",
       "1244    False\n",
       "1245    False\n",
       "Name: joining_month, Length: 1246, dtype: bool"
      ]
     },
     "execution_count": 32,
     "metadata": {},
     "output_type": "execute_result"
    }
   ],
   "source": [
    "clean_data['joining_month'].isnull()"
   ]
  },
  {
   "cell_type": "code",
   "execution_count": 33,
   "id": "3e3ee64b-3b22-4a55-9fc1-2726f14b617e",
   "metadata": {},
   "outputs": [
    {
     "data": {
      "text/html": [
       "<div>\n",
       "<style scoped>\n",
       "    .dataframe tbody tr th:only-of-type {\n",
       "        vertical-align: middle;\n",
       "    }\n",
       "\n",
       "    .dataframe tbody tr th {\n",
       "        vertical-align: top;\n",
       "    }\n",
       "\n",
       "    .dataframe thead th {\n",
       "        text-align: right;\n",
       "    }\n",
       "</style>\n",
       "<table border=\"1\" class=\"dataframe\">\n",
       "  <thead>\n",
       "    <tr style=\"text-align: right;\">\n",
       "      <th></th>\n",
       "      <th>customer_id</th>\n",
       "      <th>spend</th>\n",
       "      <th>first_month</th>\n",
       "      <th>items_in_first_month</th>\n",
       "      <th>region</th>\n",
       "      <th>loyalty_years</th>\n",
       "      <th>joining_month</th>\n",
       "      <th>promotion</th>\n",
       "    </tr>\n",
       "  </thead>\n",
       "  <tbody>\n",
       "    <tr>\n",
       "      <th>0</th>\n",
       "      <td>1</td>\n",
       "      <td>132.68</td>\n",
       "      <td>15.3</td>\n",
       "      <td>5</td>\n",
       "      <td>Asia/Pacific</td>\n",
       "      <td>5-10</td>\n",
       "      <td>Nov</td>\n",
       "      <td>No</td>\n",
       "    </tr>\n",
       "    <tr>\n",
       "      <th>1</th>\n",
       "      <td>2</td>\n",
       "      <td>106.45</td>\n",
       "      <td>16.2</td>\n",
       "      <td>14</td>\n",
       "      <td>Asia/Pacific</td>\n",
       "      <td>0-1</td>\n",
       "      <td>Feb</td>\n",
       "      <td>Yes</td>\n",
       "    </tr>\n",
       "    <tr>\n",
       "      <th>2</th>\n",
       "      <td>3</td>\n",
       "      <td>123.16</td>\n",
       "      <td>25.26</td>\n",
       "      <td>7</td>\n",
       "      <td>Middle East/Africa</td>\n",
       "      <td>10+</td>\n",
       "      <td>Dec</td>\n",
       "      <td>Yes</td>\n",
       "    </tr>\n",
       "    <tr>\n",
       "      <th>3</th>\n",
       "      <td>4</td>\n",
       "      <td>130.60</td>\n",
       "      <td>24.74</td>\n",
       "      <td>8</td>\n",
       "      <td>Middle East/Africa</td>\n",
       "      <td>3-5</td>\n",
       "      <td>Apr</td>\n",
       "      <td>No</td>\n",
       "    </tr>\n",
       "    <tr>\n",
       "      <th>4</th>\n",
       "      <td>5</td>\n",
       "      <td>130.41</td>\n",
       "      <td>25.59</td>\n",
       "      <td>8</td>\n",
       "      <td>Middle East/Africa</td>\n",
       "      <td>3-5</td>\n",
       "      <td>Apr</td>\n",
       "      <td>Yes</td>\n",
       "    </tr>\n",
       "    <tr>\n",
       "      <th>...</th>\n",
       "      <td>...</td>\n",
       "      <td>...</td>\n",
       "      <td>...</td>\n",
       "      <td>...</td>\n",
       "      <td>...</td>\n",
       "      <td>...</td>\n",
       "      <td>...</td>\n",
       "      <td>...</td>\n",
       "    </tr>\n",
       "    <tr>\n",
       "      <th>1241</th>\n",
       "      <td>1242</td>\n",
       "      <td>126.01</td>\n",
       "      <td>15.97</td>\n",
       "      <td>14</td>\n",
       "      <td>Americas</td>\n",
       "      <td>1-3</td>\n",
       "      <td>Unknown</td>\n",
       "      <td>Yes</td>\n",
       "    </tr>\n",
       "    <tr>\n",
       "      <th>1242</th>\n",
       "      <td>1243</td>\n",
       "      <td>111.85</td>\n",
       "      <td>21.22</td>\n",
       "      <td>9</td>\n",
       "      <td>Asia/Pacific</td>\n",
       "      <td>0-1</td>\n",
       "      <td>Jan</td>\n",
       "      <td>No</td>\n",
       "    </tr>\n",
       "    <tr>\n",
       "      <th>1243</th>\n",
       "      <td>1244</td>\n",
       "      <td>132.51</td>\n",
       "      <td>16.23</td>\n",
       "      <td>9</td>\n",
       "      <td>Middle East/Africa</td>\n",
       "      <td>5-10</td>\n",
       "      <td>Aug</td>\n",
       "      <td>No</td>\n",
       "    </tr>\n",
       "    <tr>\n",
       "      <th>1244</th>\n",
       "      <td>1245</td>\n",
       "      <td>131.57</td>\n",
       "      <td>21.21</td>\n",
       "      <td>9</td>\n",
       "      <td>Americas</td>\n",
       "      <td>1-3</td>\n",
       "      <td>Unknown</td>\n",
       "      <td>No</td>\n",
       "    </tr>\n",
       "    <tr>\n",
       "      <th>1245</th>\n",
       "      <td>1246</td>\n",
       "      <td>135.85</td>\n",
       "      <td>18.99</td>\n",
       "      <td>7</td>\n",
       "      <td>Middle East/Africa</td>\n",
       "      <td>5-10</td>\n",
       "      <td>Unknown</td>\n",
       "      <td>No</td>\n",
       "    </tr>\n",
       "  </tbody>\n",
       "</table>\n",
       "<p>1246 rows × 8 columns</p>\n",
       "</div>"
      ],
      "text/plain": [
       "      customer_id   spend first_month  items_in_first_month  \\\n",
       "0               1  132.68        15.3                     5   \n",
       "1               2  106.45        16.2                    14   \n",
       "2               3  123.16       25.26                     7   \n",
       "3               4  130.60       24.74                     8   \n",
       "4               5  130.41       25.59                     8   \n",
       "...           ...     ...         ...                   ...   \n",
       "1241         1242  126.01       15.97                    14   \n",
       "1242         1243  111.85       21.22                     9   \n",
       "1243         1244  132.51       16.23                     9   \n",
       "1244         1245  131.57       21.21                     9   \n",
       "1245         1246  135.85       18.99                     7   \n",
       "\n",
       "                  region loyalty_years joining_month promotion  \n",
       "0           Asia/Pacific          5-10           Nov        No  \n",
       "1           Asia/Pacific           0-1           Feb       Yes  \n",
       "2     Middle East/Africa           10+           Dec       Yes  \n",
       "3     Middle East/Africa           3-5           Apr        No  \n",
       "4     Middle East/Africa           3-5           Apr       Yes  \n",
       "...                  ...           ...           ...       ...  \n",
       "1241            Americas           1-3       Unknown       Yes  \n",
       "1242        Asia/Pacific           0-1           Jan        No  \n",
       "1243  Middle East/Africa          5-10           Aug        No  \n",
       "1244            Americas           1-3       Unknown        No  \n",
       "1245  Middle East/Africa          5-10       Unknown        No  \n",
       "\n",
       "[1246 rows x 8 columns]"
      ]
     },
     "execution_count": 33,
     "metadata": {},
     "output_type": "execute_result"
    }
   ],
   "source": [
    "clean_data"
   ]
  },
  {
   "cell_type": "markdown",
   "id": "2a83ab29-ae48-4b1e-b17b-b090a2c82442",
   "metadata": {},
   "source": [
    "### Task 2"
   ]
  },
  {
   "cell_type": "code",
   "execution_count": 34,
   "id": "b5ea7176-df21-4b55-a2de-aaa86e89f683",
   "metadata": {},
   "outputs": [],
   "source": [
    "spend_by_year=clean_data.groupby('loyalty_years')['spend'].agg(['mean','var']).reset_index()\n",
    "\n"
   ]
  },
  {
   "cell_type": "code",
   "execution_count": 35,
   "id": "d1c47d76-6ea4-4c9f-b836-30e0a916607c",
   "metadata": {},
   "outputs": [
    {
     "data": {
      "text/html": [
       "<div>\n",
       "<style scoped>\n",
       "    .dataframe tbody tr th:only-of-type {\n",
       "        vertical-align: middle;\n",
       "    }\n",
       "\n",
       "    .dataframe tbody tr th {\n",
       "        vertical-align: top;\n",
       "    }\n",
       "\n",
       "    .dataframe thead th {\n",
       "        text-align: right;\n",
       "    }\n",
       "</style>\n",
       "<table border=\"1\" class=\"dataframe\">\n",
       "  <thead>\n",
       "    <tr style=\"text-align: right;\">\n",
       "      <th></th>\n",
       "      <th>loyalty_years</th>\n",
       "      <th>mean</th>\n",
       "      <th>var</th>\n",
       "    </tr>\n",
       "  </thead>\n",
       "  <tbody>\n",
       "    <tr>\n",
       "      <th>0</th>\n",
       "      <td>0-1</td>\n",
       "      <td>110.557461</td>\n",
       "      <td>9.302693</td>\n",
       "    </tr>\n",
       "    <tr>\n",
       "      <th>1</th>\n",
       "      <td>1-3</td>\n",
       "      <td>129.308340</td>\n",
       "      <td>9.648319</td>\n",
       "    </tr>\n",
       "    <tr>\n",
       "      <th>2</th>\n",
       "      <td>10+</td>\n",
       "      <td>117.411453</td>\n",
       "      <td>16.724444</td>\n",
       "    </tr>\n",
       "    <tr>\n",
       "      <th>3</th>\n",
       "      <td>3-5</td>\n",
       "      <td>124.550547</td>\n",
       "      <td>11.085099</td>\n",
       "    </tr>\n",
       "    <tr>\n",
       "      <th>4</th>\n",
       "      <td>5-10</td>\n",
       "      <td>135.150040</td>\n",
       "      <td>14.104936</td>\n",
       "    </tr>\n",
       "  </tbody>\n",
       "</table>\n",
       "</div>"
      ],
      "text/plain": [
       "  loyalty_years        mean        var\n",
       "0           0-1  110.557461   9.302693\n",
       "1           1-3  129.308340   9.648319\n",
       "2           10+  117.411453  16.724444\n",
       "3           3-5  124.550547  11.085099\n",
       "4          5-10  135.150040  14.104936"
      ]
     },
     "execution_count": 35,
     "metadata": {},
     "output_type": "execute_result"
    }
   ],
   "source": [
    "spend_by_year"
   ]
  },
  {
   "cell_type": "code",
   "execution_count": 36,
   "id": "f22eb9b3-391c-408b-99da-25459b29efa3",
   "metadata": {},
   "outputs": [
    {
     "data": {
      "text/html": [
       "<div>\n",
       "<style scoped>\n",
       "    .dataframe tbody tr th:only-of-type {\n",
       "        vertical-align: middle;\n",
       "    }\n",
       "\n",
       "    .dataframe tbody tr th {\n",
       "        vertical-align: top;\n",
       "    }\n",
       "\n",
       "    .dataframe thead th {\n",
       "        text-align: right;\n",
       "    }\n",
       "</style>\n",
       "<table border=\"1\" class=\"dataframe\">\n",
       "  <thead>\n",
       "    <tr style=\"text-align: right;\">\n",
       "      <th></th>\n",
       "      <th>loyalty_years</th>\n",
       "      <th>mean</th>\n",
       "      <th>var</th>\n",
       "    </tr>\n",
       "  </thead>\n",
       "  <tbody>\n",
       "    <tr>\n",
       "      <th>0</th>\n",
       "      <td>0-1</td>\n",
       "      <td>110.557461</td>\n",
       "      <td>9.302693</td>\n",
       "    </tr>\n",
       "    <tr>\n",
       "      <th>1</th>\n",
       "      <td>1-3</td>\n",
       "      <td>129.308340</td>\n",
       "      <td>9.648319</td>\n",
       "    </tr>\n",
       "    <tr>\n",
       "      <th>2</th>\n",
       "      <td>10+</td>\n",
       "      <td>117.411453</td>\n",
       "      <td>16.724444</td>\n",
       "    </tr>\n",
       "    <tr>\n",
       "      <th>3</th>\n",
       "      <td>3-5</td>\n",
       "      <td>124.550547</td>\n",
       "      <td>11.085099</td>\n",
       "    </tr>\n",
       "    <tr>\n",
       "      <th>4</th>\n",
       "      <td>5-10</td>\n",
       "      <td>135.150040</td>\n",
       "      <td>14.104936</td>\n",
       "    </tr>\n",
       "  </tbody>\n",
       "</table>\n",
       "</div>"
      ],
      "text/plain": [
       "  loyalty_years        mean        var\n",
       "0           0-1  110.557461   9.302693\n",
       "1           1-3  129.308340   9.648319\n",
       "2           10+  117.411453  16.724444\n",
       "3           3-5  124.550547  11.085099\n",
       "4          5-10  135.150040  14.104936"
      ]
     },
     "execution_count": 36,
     "metadata": {},
     "output_type": "execute_result"
    }
   ],
   "source": [
    "pd.DataFrame(spend_by_year)"
   ]
  },
  {
   "cell_type": "code",
   "execution_count": 37,
   "id": "460cd7f3-1d46-4094-a290-1374424e1cc2",
   "metadata": {},
   "outputs": [],
   "source": [
    "spend_by_year.columns = ['loyalty_years','avg_spend','var_spend']\n"
   ]
  },
  {
   "cell_type": "code",
   "execution_count": 38,
   "id": "ddf02188-0e6d-4255-888b-8aabf63d5082",
   "metadata": {},
   "outputs": [],
   "source": [
    "spend_by_year['avg_spend']=spend_by_year['avg_spend'].round(2)\n",
    "spend_by_year['var_spend']=spend_by_year['var_spend'].round(2)"
   ]
  },
  {
   "cell_type": "code",
   "execution_count": 39,
   "id": "dd8b1f32-3341-4ce5-bce4-07b9f779098f",
   "metadata": {},
   "outputs": [
    {
     "data": {
      "text/html": [
       "<div>\n",
       "<style scoped>\n",
       "    .dataframe tbody tr th:only-of-type {\n",
       "        vertical-align: middle;\n",
       "    }\n",
       "\n",
       "    .dataframe tbody tr th {\n",
       "        vertical-align: top;\n",
       "    }\n",
       "\n",
       "    .dataframe thead th {\n",
       "        text-align: right;\n",
       "    }\n",
       "</style>\n",
       "<table border=\"1\" class=\"dataframe\">\n",
       "  <thead>\n",
       "    <tr style=\"text-align: right;\">\n",
       "      <th></th>\n",
       "      <th>loyalty_years</th>\n",
       "      <th>avg_spend</th>\n",
       "      <th>var_spend</th>\n",
       "    </tr>\n",
       "  </thead>\n",
       "  <tbody>\n",
       "    <tr>\n",
       "      <th>0</th>\n",
       "      <td>0-1</td>\n",
       "      <td>110.56</td>\n",
       "      <td>9.30</td>\n",
       "    </tr>\n",
       "    <tr>\n",
       "      <th>1</th>\n",
       "      <td>1-3</td>\n",
       "      <td>129.31</td>\n",
       "      <td>9.65</td>\n",
       "    </tr>\n",
       "    <tr>\n",
       "      <th>2</th>\n",
       "      <td>10+</td>\n",
       "      <td>117.41</td>\n",
       "      <td>16.72</td>\n",
       "    </tr>\n",
       "    <tr>\n",
       "      <th>3</th>\n",
       "      <td>3-5</td>\n",
       "      <td>124.55</td>\n",
       "      <td>11.09</td>\n",
       "    </tr>\n",
       "    <tr>\n",
       "      <th>4</th>\n",
       "      <td>5-10</td>\n",
       "      <td>135.15</td>\n",
       "      <td>14.10</td>\n",
       "    </tr>\n",
       "  </tbody>\n",
       "</table>\n",
       "</div>"
      ],
      "text/plain": [
       "  loyalty_years  avg_spend  var_spend\n",
       "0           0-1     110.56       9.30\n",
       "1           1-3     129.31       9.65\n",
       "2           10+     117.41      16.72\n",
       "3           3-5     124.55      11.09\n",
       "4          5-10     135.15      14.10"
      ]
     },
     "execution_count": 39,
     "metadata": {},
     "output_type": "execute_result"
    }
   ],
   "source": [
    "spend_by_year"
   ]
  },
  {
   "cell_type": "markdown",
   "id": "23bf9f51-6743-4954-a3d3-466d965530a6",
   "metadata": {},
   "source": [
    "### Task 3"
   ]
  },
  {
   "cell_type": "code",
   "execution_count": 40,
   "id": "1e550c45-96f3-44bf-999d-fc768e07c04e",
   "metadata": {},
   "outputs": [],
   "source": [
    "#1 #Which customers have the highest total spend in the last full year?\n",
    "highest_spender=clean_data.sort_values(by='spend', ascending=False)"
   ]
  },
  {
   "cell_type": "code",
   "execution_count": 41,
   "id": "120b17f9-2853-4288-831e-fc0a4b1c8cf0",
   "metadata": {},
   "outputs": [
    {
     "data": {
      "text/html": [
       "<div>\n",
       "<style scoped>\n",
       "    .dataframe tbody tr th:only-of-type {\n",
       "        vertical-align: middle;\n",
       "    }\n",
       "\n",
       "    .dataframe tbody tr th {\n",
       "        vertical-align: top;\n",
       "    }\n",
       "\n",
       "    .dataframe thead th {\n",
       "        text-align: right;\n",
       "    }\n",
       "</style>\n",
       "<table border=\"1\" class=\"dataframe\">\n",
       "  <thead>\n",
       "    <tr style=\"text-align: right;\">\n",
       "      <th></th>\n",
       "      <th>customer_id</th>\n",
       "      <th>spend</th>\n",
       "    </tr>\n",
       "  </thead>\n",
       "  <tbody>\n",
       "    <tr>\n",
       "      <th>974</th>\n",
       "      <td>975</td>\n",
       "      <td>142.29</td>\n",
       "    </tr>\n",
       "    <tr>\n",
       "      <th>53</th>\n",
       "      <td>54</td>\n",
       "      <td>142.01</td>\n",
       "    </tr>\n",
       "    <tr>\n",
       "      <th>972</th>\n",
       "      <td>973</td>\n",
       "      <td>141.92</td>\n",
       "    </tr>\n",
       "    <tr>\n",
       "      <th>27</th>\n",
       "      <td>28</td>\n",
       "      <td>141.85</td>\n",
       "    </tr>\n",
       "    <tr>\n",
       "      <th>728</th>\n",
       "      <td>729</td>\n",
       "      <td>141.82</td>\n",
       "    </tr>\n",
       "  </tbody>\n",
       "</table>\n",
       "</div>"
      ],
      "text/plain": [
       "     customer_id   spend\n",
       "974          975  142.29\n",
       "53            54  142.01\n",
       "972          973  141.92\n",
       "27            28  141.85\n",
       "728          729  141.82"
      ]
     },
     "execution_count": 41,
     "metadata": {},
     "output_type": "execute_result"
    }
   ],
   "source": [
    "highest_spender[['customer_id','spend']].head()"
   ]
  },
  {
   "cell_type": "code",
   "execution_count": null,
   "id": "6b142b1a-0d23-4647-98e3-3f691eb377de",
   "metadata": {},
   "outputs": [],
   "source": []
  },
  {
   "cell_type": "code",
   "execution_count": 42,
   "id": "de6fd138-69cf-4ce7-94de-1b50e9fe200e",
   "metadata": {},
   "outputs": [],
   "source": [
    "#2 #How does spending in the first month correlate with total yearly spend\n",
    "corr_la = clean_data[['first_month','spend']].corr()"
   ]
  },
  {
   "cell_type": "code",
   "execution_count": 43,
   "id": "ad79f061-1bb4-4f9b-9b65-108944b50989",
   "metadata": {},
   "outputs": [
    {
     "data": {
      "text/html": [
       "<div>\n",
       "<style scoped>\n",
       "    .dataframe tbody tr th:only-of-type {\n",
       "        vertical-align: middle;\n",
       "    }\n",
       "\n",
       "    .dataframe tbody tr th {\n",
       "        vertical-align: top;\n",
       "    }\n",
       "\n",
       "    .dataframe thead th {\n",
       "        text-align: right;\n",
       "    }\n",
       "</style>\n",
       "<table border=\"1\" class=\"dataframe\">\n",
       "  <thead>\n",
       "    <tr style=\"text-align: right;\">\n",
       "      <th></th>\n",
       "      <th>first_month</th>\n",
       "      <th>spend</th>\n",
       "    </tr>\n",
       "  </thead>\n",
       "  <tbody>\n",
       "    <tr>\n",
       "      <th>first_month</th>\n",
       "      <td>1.000000</td>\n",
       "      <td>0.102563</td>\n",
       "    </tr>\n",
       "    <tr>\n",
       "      <th>spend</th>\n",
       "      <td>0.102563</td>\n",
       "      <td>1.000000</td>\n",
       "    </tr>\n",
       "  </tbody>\n",
       "</table>\n",
       "</div>"
      ],
      "text/plain": [
       "             first_month     spend\n",
       "first_month     1.000000  0.102563\n",
       "spend           0.102563  1.000000"
      ]
     },
     "execution_count": 43,
     "metadata": {},
     "output_type": "execute_result"
    }
   ],
   "source": [
    "corr_la\n"
   ]
  },
  {
   "cell_type": "markdown",
   "id": "fb5a544b-22e2-489e-b38f-e600d27f7b96",
   "metadata": {},
   "source": [
    "#### Insight\n",
    "This indicates a slight positive correlation, meaning that as the first month increases, the spend increases, though this realtionship is weak. "
   ]
  },
  {
   "cell_type": "code",
   "execution_count": 44,
   "id": "9811e519-0d3d-4282-bedf-b474f1ef83a3",
   "metadata": {},
   "outputs": [],
   "source": [
    "\n",
    "#3 #Is there a relationship between the number of items purchased in the first month and total yearly spend?"
   ]
  },
  {
   "cell_type": "code",
   "execution_count": 45,
   "id": "60f58397-2bd0-4f52-8b3c-97d7e81f0c30",
   "metadata": {},
   "outputs": [
    {
     "data": {
      "text/html": [
       "<div>\n",
       "<style scoped>\n",
       "    .dataframe tbody tr th:only-of-type {\n",
       "        vertical-align: middle;\n",
       "    }\n",
       "\n",
       "    .dataframe tbody tr th {\n",
       "        vertical-align: top;\n",
       "    }\n",
       "\n",
       "    .dataframe thead th {\n",
       "        text-align: right;\n",
       "    }\n",
       "</style>\n",
       "<table border=\"1\" class=\"dataframe\">\n",
       "  <thead>\n",
       "    <tr style=\"text-align: right;\">\n",
       "      <th></th>\n",
       "      <th>items_in_first_month</th>\n",
       "      <th>spend</th>\n",
       "    </tr>\n",
       "  </thead>\n",
       "  <tbody>\n",
       "    <tr>\n",
       "      <th>items_in_first_month</th>\n",
       "      <td>1.00000</td>\n",
       "      <td>-0.08565</td>\n",
       "    </tr>\n",
       "    <tr>\n",
       "      <th>spend</th>\n",
       "      <td>-0.08565</td>\n",
       "      <td>1.00000</td>\n",
       "    </tr>\n",
       "  </tbody>\n",
       "</table>\n",
       "</div>"
      ],
      "text/plain": [
       "                      items_in_first_month    spend\n",
       "items_in_first_month               1.00000 -0.08565\n",
       "spend                             -0.08565  1.00000"
      ]
     },
     "execution_count": 45,
     "metadata": {},
     "output_type": "execute_result"
    }
   ],
   "source": [
    "relationship=clean_data[['items_in_first_month','spend']].corr()\n",
    "relationship"
   ]
  },
  {
   "cell_type": "markdown",
   "id": "a158ac65-f1f5-4958-b83d-c9761243ae0e",
   "metadata": {},
   "source": [
    "#### Insight\n",
    "This indicates a slight negative correlation, meaning that as the number of the items in the first month increases, the total yearly spend tends to decrease \n",
    "slightly. "
   ]
  },
  {
   "cell_type": "code",
   "execution_count": 46,
   "id": "6d912792-d429-4fd6-8a70-3bb1789c9359",
   "metadata": {},
   "outputs": [
    {
     "data": {
      "text/plain": [
       "region\n",
       "Middle East/Africa    40095.13\n",
       "Europe                39214.13\n",
       "Americas              37683.51\n",
       "Asia/Pacific          35813.08\n",
       "Name: spend, dtype: float64"
      ]
     },
     "execution_count": 46,
     "metadata": {},
     "output_type": "execute_result"
    }
   ],
   "source": [
    "#4 #Which region has the most loyal customers based on total spend and loyalty years? \n",
    "most_loyal_region = clean_data.groupby('region')['spend'].sum().sort_values(ascending=False)\n",
    "most_loyal_region"
   ]
  },
  {
   "cell_type": "code",
   "execution_count": 47,
   "id": "2b040793-c275-45ca-80fb-82e26c93acde",
   "metadata": {},
   "outputs": [
    {
     "data": {
      "text/plain": [
       "region              loyalty_years\n",
       "Americas            0-1              11713.30\n",
       "Europe              0-1              11628.03\n",
       "Middle East/Africa  0-1              10261.29\n",
       "                    5-10              9738.66\n",
       "                    3-5               9592.42\n",
       "Europe              5-10              9169.38\n",
       "Americas            1-3               8664.66\n",
       "Asia/Pacific        0-1               8630.33\n",
       "                    1-3               8412.00\n",
       "                    3-5               8189.21\n",
       "Europe              3-5               8119.84\n",
       "Americas            5-10              7697.96\n",
       "Europe              1-3               7255.16\n",
       "Asia/Pacific        5-10              7181.51\n",
       "Middle East/Africa  1-3               6831.49\n",
       "Americas            3-5               5983.47\n",
       "Middle East/Africa  10+               3671.27\n",
       "Americas            10+               3624.12\n",
       "Asia/Pacific        10+               3400.03\n",
       "Europe              10+               3041.72\n",
       "Name: spend, dtype: float64"
      ]
     },
     "execution_count": 47,
     "metadata": {},
     "output_type": "execute_result"
    }
   ],
   "source": [
    "most_loyal_region = clean_data.groupby(['region','loyalty_years'])['spend'].sum().sort_values(ascending=False)\n",
    "most_loyal_region"
   ]
  },
  {
   "cell_type": "markdown",
   "id": "c4d523b2-63e2-425e-8672-3bc7360e678b",
   "metadata": {},
   "source": [
    "#### Insight\n",
    "\n",
    "\n",
    "\t•\tTop spending regions:\n",
    "\t•\tMiddle East with highest total spend (40,095).\n",
    "\t•\tEurope with high  spend with 39,214.\n",
    "\t•\tAmerica  has 37,684 spend.\n",
    "\t•\tObservations:\n",
    "\t•\tIt seems that customers with lower loyalty years (0-1 or 1-3 years) across various regions tend to have higher spending. This suggests that newer customers or those with shorter loyalty durations may contribute more to the total spend.\n",
    "\t•\tThere are some exceptions like Europe (5-10 years), where more loyal customers also have high spending, but overall, newer customers in most regions seem to drive higher spending.\n",
    "\n",
    "This trend could indicate that regions with relatively newer customers (1-3 years) are actively engaging with them and generating significant revenue, while more loyal customers in some regions may contribute steadily but not as significantly.\n"
   ]
  },
  {
   "cell_type": "code",
   "execution_count": 48,
   "id": "006bb65b-d53b-4b13-80f9-c735c2022ac2",
   "metadata": {},
   "outputs": [
    {
     "data": {
      "text/plain": [
       "loyalty_years\n",
       "0-1     42232.95\n",
       "5-10    33787.51\n",
       "3-5     31884.94\n",
       "1-3     31163.31\n",
       "10+     13737.14\n",
       "Name: spend, dtype: float64"
      ]
     },
     "execution_count": 48,
     "metadata": {},
     "output_type": "execute_result"
    }
   ],
   "source": [
    " #Do customers who have been part of the loyalty program longer spend more?\n",
    "customer_spends=clean_data.groupby('loyalty_years')['spend'].sum().sort_values(ascending=False)\n",
    "customer_spends"
   ]
  },
  {
   "cell_type": "code",
   "execution_count": 49,
   "id": "3e55268d-5bd8-45de-91ad-e52b060561d0",
   "metadata": {},
   "outputs": [
    {
     "data": {
      "image/png": "[encoded data removed]",
      "text/plain": [
       "<Figure size 640x480 with 1 Axes>"
      ]
     },
     "metadata": {},
     "output_type": "display_data"
    }
   ],
   "source": [
    "\n",
    "\n",
    "plt.plot(customer_spends.index,customer_spends.values,marker='o')\n",
    "plt.title('Trend over time on spends');"
   ]
  },
  {
   "cell_type": "markdown",
   "id": "ad52d124-e237-49e9-bc9e-57402189c2df",
   "metadata": {},
   "source": [
    "#### Insight\n",
    "No those who have been in the loyalty program for longer do not spend more. Those who have been in the program for early years 0-1 years  tend to spend more than those who just have been in the program for more than 10 years. Though there is an exception for customers who have been in the program for 5-10 years."
   ]
  },
  {
   "cell_type": "code",
   "execution_count": null,
   "id": "cf808bf3-0a4e-402c-998f-801b46af82a1",
   "metadata": {},
   "outputs": [],
   "source": []
  },
  {
   "cell_type": "code",
   "execution_count": 50,
   "id": "e2768424-072e-41a1-b9b0-1df525bfa69a",
   "metadata": {},
   "outputs": [
    {
     "data": {
      "text/html": [
       "<div>\n",
       "<style scoped>\n",
       "    .dataframe tbody tr th:only-of-type {\n",
       "        vertical-align: middle;\n",
       "    }\n",
       "\n",
       "    .dataframe tbody tr th {\n",
       "        vertical-align: top;\n",
       "    }\n",
       "\n",
       "    .dataframe thead th {\n",
       "        text-align: right;\n",
       "    }\n",
       "</style>\n",
       "<table border=\"1\" class=\"dataframe\">\n",
       "  <thead>\n",
       "    <tr style=\"text-align: right;\">\n",
       "      <th></th>\n",
       "      <th>spend</th>\n",
       "      <th>items_in_first_month</th>\n",
       "    </tr>\n",
       "    <tr>\n",
       "      <th>promotion</th>\n",
       "      <th></th>\n",
       "      <th></th>\n",
       "    </tr>\n",
       "  </thead>\n",
       "  <tbody>\n",
       "    <tr>\n",
       "      <th>No</th>\n",
       "      <td>123.131984</td>\n",
       "      <td>9.404724</td>\n",
       "    </tr>\n",
       "    <tr>\n",
       "      <th>Yes</th>\n",
       "      <td>122.122815</td>\n",
       "      <td>9.432079</td>\n",
       "    </tr>\n",
       "  </tbody>\n",
       "</table>\n",
       "</div>"
      ],
      "text/plain": [
       "                spend  items_in_first_month\n",
       "promotion                                  \n",
       "No         123.131984              9.404724\n",
       "Yes        122.122815              9.432079"
      ]
     },
     "execution_count": 50,
     "metadata": {},
     "output_type": "execute_result"
    }
   ],
   "source": [
    "#6 #What is the average spend and items purchased in the first month by customers who joined as part of a promotion?\n",
    "average_spend = clean_data.groupby('promotion').agg({\n",
    "    'spend': 'mean', \n",
    "    'items_in_first_month': 'mean'  \n",
    "}).sort_values('spend', ascending=False)\n",
    "average_spend\n"
   ]
  },
  {
   "cell_type": "code",
   "execution_count": 51,
   "id": "183f2a3c-a156-453b-8a2a-20e190cca0fd",
   "metadata": {},
   "outputs": [
    {
     "data": {
      "text/plain": [
       "0       Nov\n",
       "1       Feb\n",
       "2       Dec\n",
       "3       Apr\n",
       "4       Apr\n",
       "       ... \n",
       "1238    Oct\n",
       "1239    Apr\n",
       "1240    Jan\n",
       "1242    Jan\n",
       "1243    Aug\n",
       "Name: joining_month, Length: 1121, dtype: object"
      ]
     },
     "execution_count": 51,
     "metadata": {},
     "output_type": "execute_result"
    }
   ],
   "source": [
    "df=clean_data['joining_month'].str.strip()!='Unknown'\n",
    "filtered_clean_data=clean_data[df]\n",
    "filtered_clean_data['joining_month']"
   ]
  },
  {
   "cell_type": "markdown",
   "id": "889eec0e-f83f-427d-b6f3-98bcbb358169",
   "metadata": {},
   "source": [
    "##### The average spend for customers who joined the loyalty program as part of promotion is 122.12 and the average item in the first month is  9.4044 for customers who joined as part of, while average spend for customers who did not join as part of a promotion is 123.13\n",
    "  "
   ]
  },
  {
   "cell_type": "code",
   "execution_count": 52,
   "id": "16be83dc-e696-4295-8988-b115d7963855",
   "metadata": {},
   "outputs": [
    {
     "data": {
      "image/png": "[encoded data removed]",
      "text/plain": [
       "<Figure size 1200x600 with 1 Axes>"
      ]
     },
     "metadata": {},
     "output_type": "display_data"
    }
   ],
   "source": [
    "#Does the month a customer joins affect their total yearly spend or loyalty years?\n",
    "df=clean_data['joining_month'].str.strip()!='Unknown'\n",
    "filtered_clean_data=clean_data[df]\n",
    "\n",
    "\n",
    "month_total=filtered_clean_data.groupby('joining_month')['spend'].sum()\n",
    "\n",
    "\n",
    "first_month=filtered_clean_data.groupby('joining_month')['items_in_first_month'].sum()\n",
    "\n",
    "# Creating a line plot to show the monthly trends on spending, spend on month of subscription and number of items purchased on first month\n",
    "plt.figure(figsize = (12,6))\n",
    "plt.plot(month_total.index, month_total.values, marker = \"s\")\n",
    "plt.plot(first_month.index, first_month.values, marker = \"x\")\n",
    "plt.xlabel(\"Months\")\n",
    "plt.legend(['Spend on joining month', \"Number of items purchased on joining month\"])\n",
    "plt.title (\"Monthly spend/number of spend in the first_month\")\n",
    "plt.savefig(\"month_spend\")\n",
    "plt.show()"
   ]
  },
  {
   "cell_type": "code",
   "execution_count": 53,
   "id": "e862ad6b-ae2b-4646-8362-4e1f3949563d",
   "metadata": {},
   "outputs": [
    {
     "data": {
      "image/png": "[encoded data removed]",
      "text/plain": [
       "<Figure size 1100x700 with 1 Axes>"
      ]
     },
     "metadata": {},
     "output_type": "display_data"
    }
   ],
   "source": [
    "#Which customers show consistent spending patterns across months, and how does this relate to their loyalty years?\n",
    "months = [\"Jan\", \"Feb\", \"Mar\", \"Apr\", \"May\", \"Jun\", \"Jul\", \"Aug\", \"Sep\", \"Oct\", \"Nov\", \"Dec\"]\n",
    "month_spend = {}\n",
    "\n",
    "for month in months:\n",
    "    filtered_data = clean_data[clean_data.joining_month == month]\n",
    "    month_spend[month] = filtered_data.groupby('loyalty_years')['spend'].sum().sort_values(ascending=False)\n",
    "\n",
    "# Storing the grouped monthly spend\n",
    "monthly_spend = []\n",
    "\n",
    "for month in months:\n",
    "    filtered_data = clean_data[clean_data.joining_month == month]\n",
    "    spend_data = filtered_data.groupby('loyalty_years')['spend'].sum().sort_values(ascending=False)\n",
    "    spend_data.name = month \n",
    "    monthly_spend.append(spend_data)\n",
    "\n",
    "# Combine all the series into a DataFrame\n",
    "month_spend_d = pd.concat(month_spend, axis=1)\n",
    "month_spend_d\n",
    "\n",
    "plt.figure(figsize=(11,7))\n",
    "sns.barplot(month_spend_d, color='green')\n",
    "plt.title(\"Spend across months by loyalty years\")\n",
    "plt.xlabel('Months')\n",
    "plt.ylabel(\"Spend\")\n",
    "plt.show()\n",
    "\n"
   ]
  },
  {
   "cell_type": "markdown",
   "id": "488542b7-816b-4081-afaa-5b0231eb2b69",
   "metadata": {},
   "source": [
    "#### Insight\n",
    "Yes the month a customer joins affects there total yearly spend. For the customers that joined early during the year, they have more total spend than the rest of the customers that joined other months. But we can see that month like october also have high spend though it is towards the end of the year. Customers who have been part of the rogram for longer do not spend more.\n"
   ]
  },
  {
   "cell_type": "code",
   "execution_count": 54,
   "id": "834800ab-3827-48d2-80c5-f19de2268bff",
   "metadata": {},
   "outputs": [
    {
     "data": {
      "text/plain": [
       "loyalty_years\n",
       "0-1     42232.95\n",
       "1-3     31163.31\n",
       "10+     13737.14\n",
       "3-5     31884.94\n",
       "5-10    33787.51\n",
       "Name: spend, dtype: float64"
      ]
     },
     "execution_count": 54,
     "metadata": {},
     "output_type": "execute_result"
    }
   ],
   "source": [
    "#9 #Is there a trend of higher spending in customers with more loyalty\n",
    "spend_trend=clean_data.groupby('loyalty_years')['spend'].sum()\n",
    "spend_trend"
   ]
  },
  {
   "cell_type": "code",
   "execution_count": 55,
   "id": "e858c26e-785b-4eaf-8e8f-bac72b9b7452",
   "metadata": {},
   "outputs": [
    {
     "data": {
      "text/plain": [
       "loyalty_years\n",
       "10+     13737.14\n",
       "1-3     31163.31\n",
       "3-5     31884.94\n",
       "5-10    33787.51\n",
       "0-1     42232.95\n",
       "Name: spend, dtype: float64"
      ]
     },
     "execution_count": 55,
     "metadata": {},
     "output_type": "execute_result"
    }
   ],
   "source": [
    "spend_trend=clean_data.groupby('loyalty_years')['spend'].sum().sort_values(ascending=True)\n",
    "spend_trend"
   ]
  },
  {
   "cell_type": "code",
   "execution_count": 56,
   "id": "533f055f-b7fa-4605-affe-6eb297f2dc3e",
   "metadata": {},
   "outputs": [
    {
     "data": {
      "image/png": "[encoded data removed]",
      "text/plain": [
       "<Figure size 700x500 with 1 Axes>"
      ]
     },
     "metadata": {},
     "output_type": "display_data"
    }
   ],
   "source": [
    "fig, ax = plt.subplots(figsize=(7,5))\n",
    "bars = ax.barh(spend_trend.index, spend_trend.values,color='green')\n",
    "\n",
    "#List comprehensions, formatting\n",
    "ax.bar_label(bars, labels=[f'{value:,.0f}' for value in spend_trend], padding=3)\n",
    "plt.xticks(ticks=[])\n",
    "\n",
    "plt.title('Trend in Spend');\n"
   ]
  },
  {
   "cell_type": "markdown",
   "id": "c9caad18-04e2-404d-80ce-ae8d74c07e06",
   "metadata": {},
   "source": [
    "#### Insight\n",
    "Customers with more loyalty years do not tend to spend more, we can see that those who are new to the program  spent more that those with higher years"
   ]
  },
  {
   "cell_type": "code",
   "execution_count": 57,
   "id": "f0c98d2e-1bce-420a-8524-7c6c8338a43e",
   "metadata": {},
   "outputs": [
    {
     "name": "stdout",
     "output_type": "stream",
     "text": [
      "31.10132890854637\n"
     ]
    }
   ],
   "source": [
    "#10 #What percentage of total spend comes from customers who have been in the loyalty program for more than 5 years?\n",
    "spend_by_year=clean_data.groupby('loyalty_years')['spend'].sum()\n",
    "spend_percent=(spend_by_year/clean_data['spend'].sum())*100\n",
    "combined_percent=spend_percent['5-10'] + spend_percent['10+']\n",
    "print(combined_percent)"
   ]
  },
  {
   "cell_type": "markdown",
   "id": "26bb9481-dc5b-409d-bd12-0a4f8e49c8db",
   "metadata": {},
   "source": [
    "#### Overall Insight\n",
    "\n",
    "Insight:\n",
    "\n",
    "\t•\tThe customer with the highest spend is Customer 975, with a total spend of 142.29.\n",
    "\t•\tThe next four highest spenders have very similar total spend values, ranging from 141.82 to 142.02.\n",
    "This suggests that while Customer 975 slightly outspent the others, the difference in total yearly spend among the top five customers is not very large.\n",
    "This indicates that these top customers, though close in their total yearly spend, might be important to retain in the loyalty program as they provide a consistent revenue stream.\n",
    "\n",
    "    The correlation value between first_month and spend is 0.102563, which indicates a slight positive correlation.\n",
    "\n",
    "Insight:\n",
    "\n",
    "\t•\tSlight Positive Correlation: This means that customers who spend more in their first month tend to have a slightly higher total yearly spend. However, since the correlation value is quite low (close to 0.1), this relationship is not very strong.\n",
    "\tsight:\n",
    "\n",
    "\t•\tLoyalty Years and Spending: The plot shows a decreasing trend in customer spending as loyalty years increase.\n",
    "\t•\tCustomers with 0-1 years of loyalty have the highest total spend of 42,232.95.\n",
    "\t•\tCustomers with 3-5 years of loyalty spend slightly less, but still significant, at 31,688.94.\n",
    "\t•\tThere is a sharp drop in spending for customers with more than 5 years of loyalty, down to 19,327.14 for the +5 years group.\n",
    "•\tEarly Loyalty: Customers in their first year of joining the loyalty program seem to spend the most, indicating either excitement for the program or initial incentives that drive higher spending.\n",
    "\t•\tDecline Over Time: As customers remain in the program longer, their total spending decreases. This could indicate a lack of ongoing incentives or reduced engagement with the program after the initial years.\n",
    "\tAction needed: This trend suggests the need for targeted marketing or re-engagement campaigns to encourage spending from long-term customers (3+ years). Providing additional rewards or exclusive offers could potentially help boost their spending.\n",
    "\n",
    "\t•\tCustomers who joined without a promotion spend an average of 123.13 and purchased 9.40 items in the first month.\n",
    "\t•\tCustomers who joined with a promotion spend slightly less, with an average of 122.12, and purchased 9.43 items.\n",
    "\n",
    "\t•\tThe difference in spending between customers who joined with and without promotions is minimal (about 1 unit), suggesting that the promotion does not significantly impact the first-month spending.\n",
    "\t•\tThe number of items purchased in the first month is also quite close, indicating that the promotion may not have a strong influence on initial purchasing behavior.\n",
    "\n",
    "Action\n",
    "\n",
    "\t•\tConsider evaluating longer-term customer behavior to see if promotions have a more lasting effect beyond the first month.\n",
    "\t•\tWe can also want to analyze whether certain types of promotions (e.g., discounts vs. rewards) drive more  increases in spending or item purchases.\n",
    "\n",
    "Overall, the promotion seems to have a limited immediate impact, but further analysis of retention and long-term spending trends would help in understanding the full effect of promotional offers.\n",
    "\n",
    "   Customers who joined during the early year have more spend than those who joined later or towards the end of the year. \n",
    "\n"
   ]
  },
  {
   "cell_type": "code",
   "execution_count": null,
   "id": "6560b396-f72e-40a2-90ba-f6932c3e6e2a",
   "metadata": {},
   "outputs": [],
   "source": []
  }
 ],
 "metadata": {
  "kernelspec": {
   "display_name": "Python 3 (ipykernel)",
   "language": "python",
   "name": "python3"
  },
  "language_info": {
   "codemirror_mode": {
    "name": "ipython",
    "version": 3
   },
   "file_extension": ".py",
   "mimetype": "text/x-python",
   "name": "python",
   "nbconvert_exporter": "python",
   "pygments_lexer": "ipython3",
   "version": "3.11.7"
  }
 },
 "nbformat": 4,
 "nbformat_minor": 5
}
